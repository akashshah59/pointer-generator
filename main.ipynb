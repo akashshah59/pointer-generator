{
 "cells": [
  {
   "cell_type": "code",
   "execution_count": 1,
   "metadata": {},
   "outputs": [],
   "source": [
    "from torch.utils.data import Dataset, DataLoader\n",
    "import os\n",
    "import random"
   ]
  },
  {
   "cell_type": "code",
   "execution_count": 10,
   "metadata": {},
   "outputs": [],
   "source": [
    "### Choose articles and save to a file\n",
    "\n",
    "rootdir = './articles'\n",
    "allarticles = os.listdir(rootdir)\n",
    "\n",
    "num_train = 10000\n",
    "num_val = 5000\n",
    "total_articles = random.sample(allarticles, num_train + num_val)\n",
    "train_articles = total_articles[:num_train]\n",
    "val_articles = total_articles[num_train:]\n",
    "with open('train_files.txt', 'w') as f:\n",
    "    f.write('\\n'.join(train_articles))\n",
    "with open('val_files.txt', 'w') as f:\n",
    "    f.write('\\n'.join(val_articles))"
   ]
  },
  {
   "cell_type": "code",
   "execution_count": 14,
   "metadata": {},
   "outputs": [
    {
     "name": "stdout",
     "output_type": "stream",
     "text": [
      "HowtoTellifYouAreDehydrated3\n",
      "\n",
      " Dehydration is often caused by excessive sweating during exercise. You should work on hydrating before you engage in a heavy workout. It's best to start hydrating the day before. Drink extra water if you know you'll be doing something like running a marathon the next day.Drink water until your urine is clear or pale yellow.While you exercise, carry a water bottle. Make sure to take sips of water on occasion while you're working out to replenish the fluids lost through sweat. Vomiting, diarrhea, and fever can lead to a loss of fluids. This can cause dehydration. Make an effort to drink extra fluids, especially water, when you're feeling ill.If you have trouble keeping fluids down, you can also try eating a little Jello or sucking on a popsicle or crushed ice. When it's extremely hot or cold outside, this can cause dehydration. Make an effort to up your water intake when it's very cold or hot out. This can help prevent dehydration in the future.Notice physical symptoms, such as dry skin or hands, during hot or cold weather. If you begin displaying symptoms of dehydration, start drinking water to replenish lost fluids.\n",
      "\n",
      "hydrate before and during exercise.drink extra fluids when you're sick.up your fluid intake during hot or cold weather.\n"
     ]
    }
   ],
   "source": [
    "class wikihowDataset(Dataset):\n",
    "    \n",
    "    def __init__(self, dtype):\n",
    "        \n",
    "        rootdir = './articles'\n",
    "        if dtype == 'train':\n",
    "            with open('train_files.txt', 'r') as f:\n",
    "                paths = [os.path.join(rootdir,x.rstrip('\\n')) for x in f.readlines()]\n",
    "        elif dtype == 'val':\n",
    "            with open('val_files.txt', 'r') as f:\n",
    "                paths = [os.path.join(rootdir,x.rstrip('\\n')) for x in f.readlines()]\n",
    "        else:\n",
    "            print('invalid dtype of dataset', 1/0)\n",
    "        \n",
    "        self.articles = []\n",
    "        self.summaries = []\n",
    "        self.titles = []\n",
    "        \n",
    "        for path in paths:\n",
    "            with open(path, 'r') as f:\n",
    "                summary = ''\n",
    "                article = ''\n",
    "                isarticle = False\n",
    "                \n",
    "                title = path.split('/')[2].split('.')[0]\n",
    "                self.titles.append(title)\n",
    "                \n",
    "                for line in [x.rstrip('\\n') for x in f.readlines()]:\n",
    "                    if line == '\\n' or line == '@summary':\n",
    "                        continue\n",
    "                        \n",
    "                    if line == '@article':\n",
    "                        isarticle = True\n",
    "                        continue\n",
    "                        \n",
    "                    if isarticle:\n",
    "                        article += line\n",
    "                    else:\n",
    "                        summary += line\n",
    "                        \n",
    "                self.articles.append(article)\n",
    "                self.summaries.append(summary)\n",
    "                \n",
    "    def __len__(self):\n",
    "        return len(self.articles)\n",
    "    \n",
    "    def __getitem__(self, idx):\n",
    "        return (self.articles[idx], self.summaries[idx])\n",
    "    \n",
    "dataset = wikihowDataset('train')\n",
    "print(dataset.titles[5])\n",
    "print()\n",
    "print(dataset.articles[5])\n",
    "print()\n",
    "print(dataset.summaries[5])"
   ]
  },
  {
   "cell_type": "code",
   "execution_count": 15,
   "metadata": {},
   "outputs": [],
   "source": [
    "batch_size = 10\n",
    "num_workers = 4"
   ]
  },
  {
   "cell_type": "code",
   "execution_count": 16,
   "metadata": {},
   "outputs": [],
   "source": [
    "train_dataset = wikihowDataset('train')\n",
    "val_dataset = wikihowDataset('val')\n",
    "\n",
    "train_dataloader = DataLoader(train_dataset, batch_size=batch_size,\n",
    "                        shuffle=True, num_workers=num_workers)\n",
    "val_dataloader = DataLoader(val_dataset, batch_size=batch_size,\n",
    "                        shuffle=True, num_workers=num_workers)"
   ]
  }
 ],
 "metadata": {
  "kernelspec": {
   "display_name": "Python 3",
   "language": "python",
   "name": "python3"
  },
  "language_info": {
   "codemirror_mode": {
    "name": "ipython",
    "version": 3
   },
   "file_extension": ".py",
   "mimetype": "text/x-python",
   "name": "python",
   "nbconvert_exporter": "python",
   "pygments_lexer": "ipython3",
   "version": "3.6.9"
  }
 },
 "nbformat": 4,
 "nbformat_minor": 2
}
